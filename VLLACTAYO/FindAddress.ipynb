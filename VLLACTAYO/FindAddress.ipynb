{
  "nbformat": 4,
  "nbformat_minor": 0,
  "metadata": {
    "colab": {
      "name": "FindAddress.ipynb",
      "version": "0.3.2",
      "provenance": [],
      "collapsed_sections": []
    },
    "kernelspec": {
      "name": "python3",
      "display_name": "Python 3"
    }
  },
  "cells": [
    {
      "cell_type": "code",
      "metadata": {
        "id": "FGlTBqv7C7Sr",
        "colab_type": "code",
        "colab": {}
      },
      "source": [
        "!pip install arcgis"
      ],
      "execution_count": 0,
      "outputs": []
    },
    {
      "cell_type": "code",
      "metadata": {
        "id": "Megau72gC9ap",
        "colab_type": "code",
        "colab": {}
      },
      "source": [
        "from arcgis.gis import GIS\n",
        "from arcgis.geocoding import geocode, reverse_geocode\n",
        "from arcgis.geometry import Point"
      ],
      "execution_count": 0,
      "outputs": []
    },
    {
      "cell_type": "code",
      "metadata": {
        "id": "cRmO8_IkC_og",
        "colab_type": "code",
        "colab": {}
      },
      "source": [
        "gis = GIS()"
      ],
      "execution_count": 0,
      "outputs": []
    },
    {
      "cell_type": "code",
      "metadata": {
        "colab_type": "code",
        "outputId": "8b20f00e-ddd3-4c29-e343-5b5dbec00762",
        "id": "OrtqRQR4UJKr",
        "colab": {
          "base_uri": "https://localhost:8080/",
          "height": 255
        }
      },
      "source": [
        "for x in geocode_result.features:\n",
        "    gdpoint = x.as_dict[\"geometry\"]\n",
        "    attr = x.as_dict[\"attributes\"]\n",
        "    print([gdpoint[\"x\"], gdpoint[\"y\"], attr[\"Match_addr\"], attr[\"Score\"]])"
      ],
      "execution_count": 0,
      "outputs": [
        {
          "output_type": "stream",
          "text": [
            "[-76.98831780336425, -12.074584327226038, 'Jirón Los Aymaras 355, Cuadra 3, Ur. Residencial Salamanca, Ate, Lima, 15022', 97.16]\n",
            "[-76.96701041045014, -12.038134509837677, 'Jirón Los Aymaras 355, Cuadra 4, Co. Chancas De Andahuaylas, Santa Anita, Lima, 15009', 96.06]\n",
            "[-77.04929061094428, -12.039982967880313, 'Jirón Aymaraes 355, Cuadra 4, Ah. Conde De La Vega Baja (Condesuyo), Lima, 15079', 92.21]\n",
            "[-77.04888424067204, -12.040009739574623, 'Jirón Aymaraes 355, Cuadra 4, Ah. Conde De La Vega Baja (Condesuyo), Lima, 15079', 92.21]\n",
            "[-77.0962025706002, -12.08070335692696, 'Calle Aymaras, Ur. Maranga Etapa Ii, San Miguel, Lima, 15087', 86.53]\n",
            "[-76.95997124499642, -12.035481372498213, 'Jirón Los Aymaras, Co. San Carlos, Santa Anita, Lima, 15009', 86.53]\n",
            "[-76.98798675, -12.073599000000005, 'Jirón Los Aymaras, Ur. Los Alamos, Ate, Lima, 15022', 86.53]\n",
            "[-76.98981599999999, -12.076811999999993, 'Jirón Los Aymaras, Ur. Villa Jardin, San Luis, Lima, 15021', 86.53]\n",
            "[-76.9719141580474, -12.09739468755411, 'Calle Los Aymaras, Ur. El Derby, Santiago de Surco, Lima, 15023', 86.53]\n",
            "[-76.96306511655665, -12.036582810124735, 'Jirón Los Aymaras, Co. Chancas De Andahuaylas, Santa Anita, Lima, 15009', 86.53]\n",
            "[-77.05324995014, -12.039407906162491, 'Jirón Aymaraes, Lima, 15079', 83.95]\n",
            "[-77.05392349106097, -12.038989193086879, 'Jirón Aymaraes, Ah. Conde De La Vega Baja (Condesuyo), Lima, 15079', 83.95]\n",
            "[-77.0001650551879, -11.959643017820857, 'Alameda Aymaraes, Ah. 9 De Octubre, San Juan de Lurigancho, Lima, 15423', 83.95]\n",
            "[-76.60110999999995, -12.566389999999956, 'Aymara, Provincia de Cañete, Lima', 82.61]\n"
          ],
          "name": "stdout"
        }
      ]
    },
    {
      "cell_type": "markdown",
      "metadata": {
        "id": "gXBU0wgEEEdk",
        "colab_type": "text"
      },
      "source": [
        "***"
      ]
    },
    {
      "cell_type": "code",
      "metadata": {
        "id": "GWQBJHOSEG7u",
        "colab_type": "code",
        "colab": {}
      },
      "source": [
        "import pandas as pd"
      ],
      "execution_count": 0,
      "outputs": []
    },
    {
      "cell_type": "code",
      "metadata": {
        "id": "5ZK6vb4jE-mS",
        "colab_type": "code",
        "colab": {
          "base_uri": "https://localhost:8080/",
          "height": 204
        },
        "outputId": "f1a02fe5-c454-4ae3-9b11-8344839a1e83"
      },
      "source": [
        "df = pd.read_excel(\"direcciones.xlsx\")\n",
        "df.head()"
      ],
      "execution_count": 103,
      "outputs": [
        {
          "output_type": "execute_result",
          "data": {
            "text/html": [
              "<div>\n",
              "<style scoped>\n",
              "    .dataframe tbody tr th:only-of-type {\n",
              "        vertical-align: middle;\n",
              "    }\n",
              "\n",
              "    .dataframe tbody tr th {\n",
              "        vertical-align: top;\n",
              "    }\n",
              "\n",
              "    .dataframe thead th {\n",
              "        text-align: right;\n",
              "    }\n",
              "</style>\n",
              "<table border=\"1\" class=\"dataframe\">\n",
              "  <thead>\n",
              "    <tr style=\"text-align: right;\">\n",
              "      <th></th>\n",
              "      <th>APELLIDOS Y NOMBRES</th>\n",
              "      <th>DIRECCION</th>\n",
              "    </tr>\n",
              "  </thead>\n",
              "  <tbody>\n",
              "    <tr>\n",
              "      <th>0</th>\n",
              "      <td>Espinoza, Teodoro</td>\n",
              "      <td>Calle los Algarrobos 454 - Salamanca</td>\n",
              "    </tr>\n",
              "    <tr>\n",
              "      <th>1</th>\n",
              "      <td>Cornejo, Victoria</td>\n",
              "      <td>Calle Los Uros 172 - Salamanca</td>\n",
              "    </tr>\n",
              "    <tr>\n",
              "      <th>2</th>\n",
              "      <td>Cornelio Merina</td>\n",
              "      <td>Calle Rio Santa 119 - Salamanca</td>\n",
              "    </tr>\n",
              "    <tr>\n",
              "      <th>3</th>\n",
              "      <td>Peña Lilly</td>\n",
              "      <td>Psje Pedro Pizarro 140 - Salamanca</td>\n",
              "    </tr>\n",
              "    <tr>\n",
              "      <th>4</th>\n",
              "      <td>Lanchipa Rosa</td>\n",
              "      <td>Av. Los Aymaras 355</td>\n",
              "    </tr>\n",
              "  </tbody>\n",
              "</table>\n",
              "</div>"
            ],
            "text/plain": [
              "  APELLIDOS Y NOMBRES                            DIRECCION \n",
              "0   Espinoza, Teodoro  Calle los Algarrobos 454 - Salamanca\n",
              "1   Cornejo, Victoria        Calle Los Uros 172 - Salamanca\n",
              "2     Cornelio Merina       Calle Rio Santa 119 - Salamanca\n",
              "3         Peña Lilly     Psje Pedro Pizarro 140 - Salamanca\n",
              "4       Lanchipa Rosa                   Av. Los Aymaras 355"
            ]
          },
          "metadata": {
            "tags": []
          },
          "execution_count": 103
        }
      ]
    },
    {
      "cell_type": "code",
      "metadata": {
        "id": "mVjI09-4FkvK",
        "colab_type": "code",
        "colab": {
          "base_uri": "https://localhost:8080/",
          "height": 34
        },
        "outputId": "d3959961-5a6e-468e-fad1-b1a313dfb36e"
      },
      "source": [
        "df.columns"
      ],
      "execution_count": 15,
      "outputs": [
        {
          "output_type": "execute_result",
          "data": {
            "text/plain": [
              "Index(['APELLIDOS Y NOMBRES', 'DIRECCION '], dtype='object')"
            ]
          },
          "metadata": {
            "tags": []
          },
          "execution_count": 15
        }
      ]
    },
    {
      "cell_type": "code",
      "metadata": {
        "id": "lF1gfeL-FIg6",
        "colab_type": "code",
        "colab": {}
      },
      "source": [
        "df[\"ADDRESS\"] = df[\"DIRECCION \"].apply(lambda x: x + \", Lima, PER\")\n",
        "df[\"x\"] = 0\n",
        "df[\"y\"] = 0\n",
        "df[\"Match_addr\"] = \"\"\n",
        "df[\"score\"] = \"\""
      ],
      "execution_count": 0,
      "outputs": []
    },
    {
      "cell_type": "code",
      "metadata": {
        "id": "_iNWTb28Fwe-",
        "colab_type": "code",
        "colab": {
          "base_uri": "https://localhost:8080/",
          "height": 204
        },
        "outputId": "90c23311-d52a-4edc-bd8d-84169f60e7b7"
      },
      "source": [
        "df.head()"
      ],
      "execution_count": 105,
      "outputs": [
        {
          "output_type": "execute_result",
          "data": {
            "text/html": [
              "<div>\n",
              "<style scoped>\n",
              "    .dataframe tbody tr th:only-of-type {\n",
              "        vertical-align: middle;\n",
              "    }\n",
              "\n",
              "    .dataframe tbody tr th {\n",
              "        vertical-align: top;\n",
              "    }\n",
              "\n",
              "    .dataframe thead th {\n",
              "        text-align: right;\n",
              "    }\n",
              "</style>\n",
              "<table border=\"1\" class=\"dataframe\">\n",
              "  <thead>\n",
              "    <tr style=\"text-align: right;\">\n",
              "      <th></th>\n",
              "      <th>APELLIDOS Y NOMBRES</th>\n",
              "      <th>DIRECCION</th>\n",
              "      <th>ADDRESS</th>\n",
              "      <th>x</th>\n",
              "      <th>y</th>\n",
              "      <th>Match_addr</th>\n",
              "      <th>score</th>\n",
              "    </tr>\n",
              "  </thead>\n",
              "  <tbody>\n",
              "    <tr>\n",
              "      <th>0</th>\n",
              "      <td>Espinoza, Teodoro</td>\n",
              "      <td>Calle los Algarrobos 454 - Salamanca</td>\n",
              "      <td>Calle los Algarrobos 454 - Salamanca, Lima, PER</td>\n",
              "      <td>0</td>\n",
              "      <td>0</td>\n",
              "      <td></td>\n",
              "      <td></td>\n",
              "    </tr>\n",
              "    <tr>\n",
              "      <th>1</th>\n",
              "      <td>Cornejo, Victoria</td>\n",
              "      <td>Calle Los Uros 172 - Salamanca</td>\n",
              "      <td>Calle Los Uros 172 - Salamanca, Lima, PER</td>\n",
              "      <td>0</td>\n",
              "      <td>0</td>\n",
              "      <td></td>\n",
              "      <td></td>\n",
              "    </tr>\n",
              "    <tr>\n",
              "      <th>2</th>\n",
              "      <td>Cornelio Merina</td>\n",
              "      <td>Calle Rio Santa 119 - Salamanca</td>\n",
              "      <td>Calle Rio Santa 119 - Salamanca, Lima, PER</td>\n",
              "      <td>0</td>\n",
              "      <td>0</td>\n",
              "      <td></td>\n",
              "      <td></td>\n",
              "    </tr>\n",
              "    <tr>\n",
              "      <th>3</th>\n",
              "      <td>Peña Lilly</td>\n",
              "      <td>Psje Pedro Pizarro 140 - Salamanca</td>\n",
              "      <td>Psje Pedro Pizarro 140 - Salamanca, Lima, PER</td>\n",
              "      <td>0</td>\n",
              "      <td>0</td>\n",
              "      <td></td>\n",
              "      <td></td>\n",
              "    </tr>\n",
              "    <tr>\n",
              "      <th>4</th>\n",
              "      <td>Lanchipa Rosa</td>\n",
              "      <td>Av. Los Aymaras 355</td>\n",
              "      <td>Av. Los Aymaras 355, Lima, PER</td>\n",
              "      <td>0</td>\n",
              "      <td>0</td>\n",
              "      <td></td>\n",
              "      <td></td>\n",
              "    </tr>\n",
              "  </tbody>\n",
              "</table>\n",
              "</div>"
            ],
            "text/plain": [
              "  APELLIDOS Y NOMBRES                            DIRECCION   ... Match_addr  score\n",
              "0   Espinoza, Teodoro  Calle los Algarrobos 454 - Salamanca  ...                  \n",
              "1   Cornejo, Victoria        Calle Los Uros 172 - Salamanca  ...                  \n",
              "2     Cornelio Merina       Calle Rio Santa 119 - Salamanca  ...                  \n",
              "3         Peña Lilly     Psje Pedro Pizarro 140 - Salamanca  ...                  \n",
              "4       Lanchipa Rosa                   Av. Los Aymaras 355  ...                  \n",
              "\n",
              "[5 rows x 7 columns]"
            ]
          },
          "metadata": {
            "tags": []
          },
          "execution_count": 105
        }
      ]
    },
    {
      "cell_type": "code",
      "metadata": {
        "id": "kVlVz2TFK8xn",
        "colab_type": "code",
        "colab": {
          "base_uri": "https://localhost:8080/",
          "height": 34
        },
        "outputId": "90bc4083-2385-4335-e257-c8c37e803b9d"
      },
      "source": [
        "df.iloc[0][\"APELLIDOS Y NOMBRES\"]\n"
      ],
      "execution_count": 106,
      "outputs": [
        {
          "output_type": "execute_result",
          "data": {
            "text/plain": [
              "'Espinoza, Teodoro'"
            ]
          },
          "metadata": {
            "tags": []
          },
          "execution_count": 106
        }
      ]
    },
    {
      "cell_type": "code",
      "metadata": {
        "id": "BJT19OWmF2VU",
        "colab_type": "code",
        "colab": {}
      },
      "source": [
        "def extractAddress(df, indice, idDf, address):\n",
        "    gis = GIS()\n",
        "    geocode_result = geocode(address = df.iloc[indice][address], as_featureset=True) # Cambiar la dirección\n",
        "    for x in geocode_result.features:\n",
        "        gdpoint = x.as_dict[\"geometry\"]\n",
        "        attr = x.as_dict[\"attributes\"]\n",
        "        df = df.append(pd.Series([df.iloc[indice][idDf], \"\", \"\", gdpoint[\"x\"], gdpoint[\"y\"], attr[\"Match_addr\"], attr[\"Score\"]], index=df.columns ), ignore_index=True)\n",
        "    return df\n"
      ],
      "execution_count": 0,
      "outputs": []
    },
    {
      "cell_type": "code",
      "metadata": {
        "id": "Iv8txZW8NzNM",
        "colab_type": "code",
        "colab": {}
      },
      "source": [
        "for n in range(len(df)):\n",
        "    df = extractAddress(df, n, \"APELLIDOS Y NOMBRES\", \"ADDRESS\")"
      ],
      "execution_count": 0,
      "outputs": []
    },
    {
      "cell_type": "code",
      "metadata": {
        "id": "qtXiNkoAPVeX",
        "colab_type": "code",
        "colab": {}
      },
      "source": [
        "df.sort_values(by='APELLIDOS Y NOMBRES')"
      ],
      "execution_count": 0,
      "outputs": []
    }
  ]
}