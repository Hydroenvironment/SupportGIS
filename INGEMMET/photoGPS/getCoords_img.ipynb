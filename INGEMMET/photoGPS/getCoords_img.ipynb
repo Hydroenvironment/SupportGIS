{
 "cells": [
  {
   "cell_type": "code",
   "execution_count": null,
   "metadata": {},
   "outputs": [],
   "source": [
    "import re\n",
    "import os\n",
    "from PIL import Image\n",
    "from PIL.ExifTags import TAGS, GPSTAGS\n",
    "from __future__ import division"
   ]
  },
  {
   "cell_type": "code",
   "execution_count": 58,
   "metadata": {},
   "outputs": [],
   "source": [
    "def get_exif(filename):\n",
    "    exif = Image.open(filename)._getexif()\n",
    "\n",
    "    if exif is not None:\n",
    "        for key, value in exif.items():\n",
    "            name = TAGS.get(key, key)\n",
    "            exif[name] = exif.pop(key)\n",
    "\n",
    "        if 'GPSInfo' in exif:\n",
    "            for key in exif['GPSInfo'].keys():\n",
    "                name = GPSTAGS.get(key,key)\n",
    "                exif['GPSInfo'][name] = exif['GPSInfo'].pop(key)\n",
    "    \n",
    "    dataGPS = exif[\"GPSInfo\"]\n",
    "    \n",
    "    func_xy = lambda x: x[0][0]/x[0][1] + (x[1][0]/x[1][1])/60 + (x[2][0]/x[2][1])/3600\n",
    "    func_z = lambda x: x[0]/x[1]\n",
    "\n",
    "    coords = {\n",
    "        \"x\": func_xy(dataGPS['GPSLongitude']),\n",
    "        \"y\": func_xy(dataGPS['GPSLatitude']),\n",
    "        \"z\": func_z(dataGPS['GPSAltitude'])\n",
    "    }\n",
    "    return coords"
   ]
  },
  {
   "cell_type": "code",
   "execution_count": 59,
   "metadata": {},
   "outputs": [],
   "source": [
    "# FOLDER = r'F:\\FOTOGRAFIAS\\060819'\n",
    "FOLDER = r'D:\\RYali\\SupportGIS\\INGEMMET\\photoGPS\\160819'\n",
    "GDB = r'D:\\RYali\\SupportGIS\\INGEMMET\\photoGPS\\GDB_FOTO.gdb'\n",
    "\n",
    "PUNTO = os.path.join(GDB, \"GPT_FOTO\")"
   ]
  },
  {
   "cell_type": "code",
   "execution_count": 60,
   "metadata": {},
   "outputs": [],
   "source": [
    "dicc = {}\n",
    "for foto in os.listdir(FOLDER):\n",
    "    if \".JPG\" in foto:\n",
    "        path_foto = os.path.join(FOLDER, foto)\n",
    "        dicc[foto.split(\".\")[0]] = get_exif(path_foto)"
   ]
  },
  {
   "cell_type": "code",
   "execution_count": 61,
   "metadata": {},
   "outputs": [
    {
     "data": {
      "text/plain": [
       "{'DSCN3840': {'x': 77.00850666666666, 'y': 12.085173333333334, 'z': 189.1},\n",
       " 'DSCN3841': {'x': 77.00843833333333, 'y': 12.085185000000001, 'z': 183.5},\n",
       " 'DSCN3843': {'x': 77.00846166666666, 'y': 12.085175000000001, 'z': 183.3},\n",
       " 'DSCN3846': {'x': 77.008485, 'y': 12.085238333333335, 'z': 182.7},\n",
       " 'DSCN3848': {'x': 77.008455, 'y': 12.085266666666667, 'z': 185.8}}"
      ]
     },
     "execution_count": 61,
     "metadata": {},
     "output_type": "execute_result"
    }
   ],
   "source": [
    "dicc"
   ]
  },
  {
   "cell_type": "code",
   "execution_count": 11,
   "metadata": {},
   "outputs": [],
   "source": [
    "import arcpy"
   ]
  },
  {
   "cell_type": "code",
   "execution_count": 12,
   "metadata": {},
   "outputs": [],
   "source": [
    "name_foto = \"DSCN4646.JPG\"\n",
    "path_foto = os.path.join(FOLDER, name_foto)\n",
    "myFile = open(path_foto,'rb').read()\n",
    "\n",
    "with arcpy.da.InsertCursor(PUNTO,['BLOB','NAME', \"X\", \"Y\", \"Z\", \"SHAPE@X\", \"SHAPE@Y\"]) as cursor:\n",
    "    cursor.insertRow([myFile, name_foto, 0, 0, 0, -75, -15])"
   ]
  },
  {
   "cell_type": "code",
   "execution_count": null,
   "metadata": {},
   "outputs": [],
   "source": [
    "import os\n",
    "\n",
    "FOLDER = r'D:\\RYali\\SupportGIS\\INGEMMET\\photoGPS'\n",
    "GDB = r'D:\\RYali\\SupportGIS\\INGEMMET\\photoGPS\\GDB_FOTO.gdb'\n",
    "\n",
    "PUNTO = os.path.join(GDB, \"GPT_FOTO\")\n",
    "\n",
    "name_foto = \"DSCN4646.JPG\"\n",
    "path_foto = os.path.join(FOLDER, name_foto)\n",
    "myFile = open(path_foto,'rb').read()\n",
    "\n",
    "with arcpy.da.InsertCursor(PUNTO,['BLOB','NAME', \"X\", \"Y\", \"Z\", \"SHAPE@X\", \"SHAPE@Y\"]) as cursor:\n",
    "    cursor.insertRow([myFile, name_foto, 0, 0, 0, -75, -15])"
   ]
  }
 ],
 "metadata": {
  "kernelspec": {
   "display_name": "Python 2",
   "language": "python",
   "name": "python2"
  },
  "language_info": {
   "codemirror_mode": {
    "name": "ipython",
    "version": 2
   },
   "file_extension": ".py",
   "mimetype": "text/x-python",
   "name": "python",
   "nbconvert_exporter": "python",
   "pygments_lexer": "ipython2",
   "version": "2.7.10"
  }
 },
 "nbformat": 4,
 "nbformat_minor": 2
}
